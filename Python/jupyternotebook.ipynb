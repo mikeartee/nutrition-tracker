{
 "cells": [
  {
   "cell_type": "code",
   "execution_count": 3,
   "metadata": {},
   "outputs": [
    {
     "name": "stdout",
     "output_type": "stream",
     "text": [
      "3\n"
     ]
    }
   ],
   "source": [
    "i = 3\n",
    "print(i)"
   ]
  },
  {
   "cell_type": "code",
   "execution_count": 4,
   "metadata": {},
   "outputs": [
    {
     "data": {
      "text/plain": [
       "'Hello World!'"
      ]
     },
     "execution_count": 4,
     "metadata": {},
     "output_type": "execute_result"
    }
   ],
   "source": [
    "j = \"Hello World!\"\n",
    "j"
   ]
  },
  {
   "cell_type": "code",
   "execution_count": 5,
   "metadata": {},
   "outputs": [
    {
     "data": {
      "text/plain": [
       "'Mike'"
      ]
     },
     "execution_count": 5,
     "metadata": {},
     "output_type": "execute_result"
    }
   ],
   "source": [
    "a = input(\"What is your name?\")\n",
    "a"
   ]
  },
  {
   "cell_type": "code",
   "execution_count": 6,
   "metadata": {},
   "outputs": [
    {
     "data": {
      "text/plain": [
       "True"
      ]
     },
     "execution_count": 6,
     "metadata": {},
     "output_type": "execute_result"
    }
   ],
   "source": [
    "my_boolean = True\n",
    "my_boolean"
   ]
  },
  {
   "cell_type": "code",
   "execution_count": 7,
   "metadata": {},
   "outputs": [
    {
     "data": {
      "text/plain": [
       "bool"
      ]
     },
     "execution_count": 7,
     "metadata": {},
     "output_type": "execute_result"
    }
   ],
   "source": [
    "type(True)"
   ]
  },
  {
   "cell_type": "code",
   "execution_count": 8,
   "metadata": {},
   "outputs": [
    {
     "data": {
      "text/plain": [
       "'MIKEMIKEMIKE'"
      ]
     },
     "execution_count": 8,
     "metadata": {},
     "output_type": "execute_result"
    }
   ],
   "source": [
    "s = \"MikeMikeMike\"\n",
    "s = s.upper()\n",
    "s"
   ]
  },
  {
   "cell_type": "code",
   "execution_count": 9,
   "metadata": {},
   "outputs": [
    {
     "data": {
      "text/plain": [
       "'mikemikemike'"
      ]
     },
     "execution_count": 9,
     "metadata": {},
     "output_type": "execute_result"
    }
   ],
   "source": [
    "s = \"MikeMikeMike\"\n",
    "s = s.lower()\n",
    "s"
   ]
  },
  {
   "cell_type": "code",
   "execution_count": 10,
   "metadata": {},
   "outputs": [
    {
     "data": {
      "text/plain": [
       "'a nested list'"
      ]
     },
     "execution_count": 10,
     "metadata": {},
     "output_type": "execute_result"
    }
   ],
   "source": [
    "l = [\"Mike\", 1, True, 1.4, [\"a nested list\", 5]]\n",
    "l[-1][0]"
   ]
  },
  {
   "cell_type": "code",
   "execution_count": 11,
   "metadata": {},
   "outputs": [
    {
     "data": {
      "text/plain": [
       "5"
      ]
     },
     "execution_count": 11,
     "metadata": {},
     "output_type": "execute_result"
    }
   ],
   "source": [
    "len(l)"
   ]
  },
  {
   "cell_type": "code",
   "execution_count": 12,
   "metadata": {},
   "outputs": [
    {
     "data": {
      "text/plain": [
       "2"
      ]
     },
     "execution_count": 12,
     "metadata": {},
     "output_type": "execute_result"
    }
   ],
   "source": [
    "len(l[-1])"
   ]
  },
  {
   "cell_type": "code",
   "execution_count": 13,
   "metadata": {},
   "outputs": [
    {
     "data": {
      "text/plain": [
       "'s'"
      ]
     },
     "execution_count": 13,
     "metadata": {},
     "output_type": "execute_result"
    }
   ],
   "source": [
    "t = \"this is a string!\"\n",
    "t[-7]"
   ]
  },
  {
   "cell_type": "code",
   "execution_count": 19,
   "metadata": {},
   "outputs": [
    {
     "name": "stdout",
     "output_type": "stream",
     "text": [
      "[True]\n",
      "[True, 'this is a string']\n",
      "['19', True, 'this is a string']\n",
      "['19', True]\n",
      "[True]\n"
     ]
    }
   ],
   "source": [
    "new_list = [True]\n",
    "print(new_list)\n",
    "new_list.append(\"this is a string\")\n",
    "print(new_list)\n",
    "new_list.insert(0, \"19\")\n",
    "print(new_list)\n",
    "new_list.pop()\n",
    "print(new_list)\n",
    "new_list.pop(0)\n",
    "print(new_list)\n"
   ]
  },
  {
   "cell_type": "code",
   "execution_count": null,
   "metadata": {},
   "outputs": [
    {
     "name": "stdout",
     "output_type": "stream",
     "text": [
      "[5, 4, 3, 2, 1, 0]\n"
     ]
    }
   ],
   "source": [
    "numbered_list = [0, 5, 3, 4, 1, 2]\n",
    "numbered_list.sort(reverse=True)\n",
    "print(numbered_list)"
   ]
  },
  {
   "cell_type": "code",
   "execution_count": 2,
   "metadata": {},
   "outputs": [
    {
     "name": "stdout",
     "output_type": "stream",
     "text": [
      "[0, 1, 2, 3, 4, 5]\n",
      "[0, 5, 4, 3, 1, 2]\n"
     ]
    }
   ],
   "source": [
    "numbered_list = [0, 5, 4, 3, 1, 2]\n",
    "print(sorted(numbered_list))\n",
    "print(numbered_list)"
   ]
  },
  {
   "cell_type": "code",
   "execution_count": 17,
   "metadata": {},
   "outputs": [
    {
     "name": "stdout",
     "output_type": "stream",
     "text": [
      "[5, 4, 3, 2, 1, 0]\n",
      "[0, 5, 3, 4, 1, 2]\n"
     ]
    }
   ],
   "source": [
    "numbered_list = [0, 5, 3, 4, 1, 2]\n",
    "print(sorted(numbered_list, reverse=True))\n",
    "print(numbered_list)"
   ]
  },
  {
   "cell_type": "code",
   "execution_count": 18,
   "metadata": {},
   "outputs": [
    {
     "name": "stdout",
     "output_type": "stream",
     "text": [
      "['Alan', 'Barry', 'Jim', 'Mike', 'Sue', 'Terry']\n",
      "['Barry', 'Terry', 'Mike', 'Jim', 'Sue', 'Alan']\n"
     ]
    }
   ],
   "source": [
    "list_animals = [\"Barry\", \"Terry\", \"Mike\", \"Jim\", \"Sue\", \"Alan\"]\n",
    "print(sorted(list_animals))\n",
    "print(list_animals)"
   ]
  },
  {
   "cell_type": "code",
   "execution_count": 24,
   "metadata": {},
   "outputs": [
    {
     "name": "stdout",
     "output_type": "stream",
     "text": [
      "5\n",
      "In a year you will be 48!\n"
     ]
    }
   ],
   "source": [
    "print(int(\"5\"))\n",
    "some_input = input(\"How old are you?\") #this will return a string request\n",
    "some_input = int(some_input) + 1 #Cast before math is performed, then add the +1\n",
    "print(f\"In a year you will be {some_input}!\") #String interpolation. Curly brackets=string interpolation."
   ]
  },
  {
   "cell_type": "code",
   "execution_count": 31,
   "metadata": {},
   "outputs": [
    {
     "name": "stdout",
     "output_type": "stream",
     "text": [
      "1\n"
     ]
    }
   ],
   "source": [
    "HOURLY_SALARY = 50 #Convention of all Upper Case assigns the number here of \"50\" as Final, or constant. \n",
    "\n",
    "from typing import Final\n",
    "\n",
    "NEW_HOURLY_SALARY:Final[int] = 60\n",
    "\n",
    "NEW_HOURLY_SALARY = 1 #Will highlight error, however will still output.\n",
    "\n",
    "print(NEW_HOURLY_SALARY)"
   ]
  },
  {
   "cell_type": "code",
   "execution_count": 1,
   "metadata": {},
   "outputs": [
    {
     "ename": "TypeError",
     "evalue": "'int' object does not support item assignment",
     "output_type": "error",
     "traceback": [
      "\u001b[1;31m---------------------------------------------------------------------------\u001b[0m",
      "\u001b[1;31mTypeError\u001b[0m                                 Traceback (most recent call last)",
      "\u001b[1;32mc:\\Users\\Mike RT\\Documents\\learn_git\\Python\\jupyternotebook.ipynb Cell 19\u001b[0m line \u001b[0;36m2\n\u001b[0;32m      <a href='vscode-notebook-cell:/c%3A/Users/Mike%20RT/Documents/learn_git/Python/jupyternotebook.ipynb#X24sZmlsZQ%3D%3D?line=0'>1</a>\u001b[0m my_tuples \u001b[39m=\u001b[39m (\u001b[39m3\u001b[39m)\n\u001b[1;32m----> <a href='vscode-notebook-cell:/c%3A/Users/Mike%20RT/Documents/learn_git/Python/jupyternotebook.ipynb#X24sZmlsZQ%3D%3D?line=1'>2</a>\u001b[0m my_tuples[\u001b[39m0\u001b[39;49m] \u001b[39m=\u001b[39m \u001b[39m2\u001b[39m\n",
      "\u001b[1;31mTypeError\u001b[0m: 'int' object does not support item assignment"
     ]
    }
   ],
   "source": [
    "my_tuples = (3) #initialising vector\n",
    "my_tuples[0] = 2"
   ]
  },
  {
   "cell_type": "code",
   "execution_count": 9,
   "metadata": {},
   "outputs": [
    {
     "name": "stdout",
     "output_type": "stream",
     "text": [
      "{'apples', 'oranges', 'cherries', 'melons', 'banana'}\n",
      "{'apples'}\n",
      "{'banana', 'cherries'}\n",
      "{'melons', 'oranges'}\n"
     ]
    },
    {
     "data": {
      "text/plain": [
       "['apples', 'banana', 'cherries', 'melons', 'oranges']"
      ]
     },
     "execution_count": 9,
     "metadata": {},
     "output_type": "execute_result"
    }
   ],
   "source": [
    "my_set = {\"apples\", \"banana\", \"cherries\"} #set has curly brackets in output\n",
    "another_set = {\"apples\", \"oranges\", \"melons\"}\n",
    "union = my_set.union(another_set)\n",
    "print(union)\n",
    "intersection = my_set.intersection(another_set)\n",
    "print(intersection)\n",
    "only_mine = my_set.difference(another_set)\n",
    "print(only_mine)\n",
    "only_another_set = another_set.difference(my_set)\n",
    "print(only_another_set)\n",
    "sorted(list(union))"
   ]
  },
  {
   "cell_type": "code",
   "execution_count": 13,
   "metadata": {},
   "outputs": [
    {
     "name": "stdout",
     "output_type": "stream",
     "text": [
      "Mike\n",
      "47\n",
      "48\n"
     ]
    }
   ],
   "source": [
    "my_info = {\"name\": \"Mike\", \"age\": 47}\n",
    "name=my_info[\"name\"]\n",
    "age=my_info[\"age\"]\n",
    "print(name)\n",
    "print(age)\n",
    "my_info[\"age\"] = my_info[\"age\"] + 1\n",
    "print(my_info[\"age\"])"
   ]
  },
  {
   "cell_type": "code",
   "execution_count": 17,
   "metadata": {},
   "outputs": [
    {
     "name": "stdout",
     "output_type": "stream",
     "text": [
      "{'pet': 'cat', 'vet': 'Pet care', 'owners': ['Gary', 'Mike', 'Terry']}\n"
     ]
    }
   ],
   "source": [
    "my_dict = dict()\n",
    "my_dict[\"pet\"] = \"cat\"\n",
    "my_dict[\"vet\"] = \"Pet care\"\n",
    "my_dict[\"owners\"] = [\"Gary\", \"Mike\", \"Terry\"]\n",
    "print(my_dict)"
   ]
  },
  {
   "cell_type": "code",
   "execution_count": 20,
   "metadata": {},
   "outputs": [
    {
     "name": "stdout",
     "output_type": "stream",
     "text": [
      "Hello! Welcome to Re/Start!\n",
      "I hope your day is going well!\n"
     ]
    }
   ],
   "source": [
    "f = open (\"text.txt\", \"r\")\n",
    "print(f.read())"
   ]
  },
  {
   "cell_type": "code",
   "execution_count": 23,
   "metadata": {},
   "outputs": [
    {
     "name": "stdout",
     "output_type": "stream",
     "text": [
      "Hello! Welcome to Re/Start!\n",
      "\n",
      "I hope your day is going well!\n"
     ]
    }
   ],
   "source": [
    "f = open (\"text.txt\", \"r\")\n",
    "print(f.readline())\n",
    "print(f.readline())"
   ]
  },
  {
   "cell_type": "code",
   "execution_count": 26,
   "metadata": {},
   "outputs": [
    {
     "name": "stdout",
     "output_type": "stream",
     "text": [
      "Hello! Welcome to Re/Start!\n",
      "\n",
      "I hope your day is going well!\n",
      "\n",
      "Hi there\n",
      "\n",
      "Whaddup\n",
      "\n",
      "Are you alright?\n",
      "\n",
      "There is a nice pie in the fridge for you.\n"
     ]
    }
   ],
   "source": [
    "f = open (\"text.txt\", \"r\")\n",
    "for x in f:\n",
    "    print(x)"
   ]
  },
  {
   "cell_type": "code",
   "execution_count": 30,
   "metadata": {},
   "outputs": [
    {
     "name": "stdout",
     "output_type": "stream",
     "text": [
      "HELLO! WELCOME TO RE/START!\n",
      "\n",
      "Everytime\n",
      "I HOPE YOUR DAY IS GOING WELL!\n",
      "\n",
      "Everytime\n",
      "HI THERE\n",
      "\n",
      "Everytime\n",
      "WHADDUP\n",
      "\n",
      "Everytime\n",
      "ARE YOU ALRIGHT?\n",
      "\n",
      "Everytime\n",
      "THERE IS A NICE PIE IN THE FRIDGE FOR YOU.\n",
      "Everytime\n",
      "finish\n"
     ]
    }
   ],
   "source": [
    "f = open (\"text.txt\", \"r\")\n",
    "for x in f:\n",
    "    print(x.upper())\n",
    "    print(\"Everytime\")\n",
    "print(\"finish\")"
   ]
  },
  {
   "cell_type": "code",
   "execution_count": 40,
   "metadata": {},
   "outputs": [
    {
     "name": "stdout",
     "output_type": "stream",
     "text": [
      "You are not a dog or cat person\n"
     ]
    }
   ],
   "source": [
    "favourite_animal = input(\"What is your favourite animal?\")\n",
    "favourite_animal = favourite_animal.lower()\n",
    "if favourite_animal == \"dog\":\n",
    "    print (\"You are a dog person\")\n",
    "elif favourite_animal == \"cat\":\n",
    "    print (\"You are a cat person\")\n",
    "elif favourite_animal == \"bird\":\n",
    "    print (\"You are a bird person\")\n",
    "else:\n",
    "    print (\"I don't know your animal, I hope they are nice!\")"
   ]
  },
  {
   "cell_type": "code",
   "execution_count": 41,
   "metadata": {},
   "outputs": [
    {
     "data": {
      "text/plain": [
       "False"
      ]
     },
     "execution_count": 41,
     "metadata": {},
     "output_type": "execute_result"
    }
   ],
   "source": [
    "4<3"
   ]
  },
  {
   "cell_type": "code",
   "execution_count": 5,
   "metadata": {},
   "outputs": [
    {
     "name": "stdout",
     "output_type": "stream",
     "text": [
      "cat\n"
     ]
    }
   ],
   "source": [
    "favourite_animal = \"\"\n",
    "while favourite_animal != \"cat\" and favourite_animal != \"dog\":\n",
    "    favourite_animal = input(\"Are you a dog person or a cat person?\")\n",
    "    if favourite_animal == \"human\":\n",
    "        break\n",
    "print(favourite_animal)"
   ]
  },
  {
   "cell_type": "code",
   "execution_count": 11,
   "metadata": {},
   "outputs": [
    {
     "name": "stdout",
     "output_type": "stream",
     "text": [
      "I don't want to talk about x\n"
     ]
    }
   ],
   "source": [
    "x = 4\n",
    "match x:\n",
    "    case 1:\n",
    "        print(\"x = 1\")\n",
    "    case 2:\n",
    "        print(\"x = 2\")\n",
    "    case _:\n",
    "        print(\"I don't want to talk about x\")"
   ]
  },
  {
   "cell_type": "code",
   "execution_count": 18,
   "metadata": {},
   "outputs": [
    {
     "name": "stdout",
     "output_type": "stream",
     "text": [
      "Color is blue\n"
     ]
    }
   ],
   "source": [
    "from enum import Enum\n",
    "\n",
    "class Color(Enum):\n",
    "    RED = 1\n",
    "    BLUE = 2\n",
    "    GREEN = 3\n",
    "    ORANGE = 4\n",
    "    VIOLET = 5\n",
    "    YELLOW = 6\n",
    "    MAROON = 7\n",
    "\n",
    "my_color = Color.BLUE\n",
    "\n",
    "match my_color:\n",
    "    case Color.RED:\n",
    "        print(\"Color is red\")\n",
    "    case Color.BLUE:\n",
    "        print(\"Color is blue\")\n",
    "    case Color.GREEN:\n",
    "        print(\"Color is green\")\n",
    "    case _:\n",
    "         print(\"Not my color\")   "
   ]
  },
  {
   "cell_type": "code",
   "execution_count": 24,
   "metadata": {},
   "outputs": [
    {
     "name": "stdout",
     "output_type": "stream",
     "text": [
      "0\n",
      "1\n",
      "2\n",
      "3\n",
      "4\n"
     ]
    }
   ],
   "source": [
    "for i in range(5):\n",
    "    print(i)\n",
    "    "
   ]
  },
  {
   "cell_type": "code",
   "execution_count": 29,
   "metadata": {},
   "outputs": [
    {
     "name": "stdout",
     "output_type": "stream",
     "text": [
      "MIKE\n",
      "PRIYA\n",
      "SEAN\n",
      "RAJ\n",
      "JACOB\n",
      "['MIKE', 'PRIYA', 'SEAN', 'RAJ', 'JACOB']\n"
     ]
    }
   ],
   "source": [
    "my_list = [\"Mike\",\"Priya\",\"Sean\",\"Raj\",\"Jacob\"]\n",
    "new_list = []\n",
    "for i in my_list:\n",
    "    new_name = i.upper()\n",
    "    new_list.append(new_name)\n",
    "    print(new_name)\n",
    "print(new_list)"
   ]
  },
  {
   "cell_type": "code",
   "execution_count": 32,
   "metadata": {},
   "outputs": [
    {
     "name": "stdout",
     "output_type": "stream",
     "text": [
      "['MIKE', 'PRIYA', 'SEAN', 'RAJ', 'JACOB']\n"
     ]
    }
   ],
   "source": [
    "my_list = [\"Mike\",\"Priya\",\"Sean\",\"Raj\",\"Jacob\"]\n",
    "new_list =[i.upper() for i in my_list]\n",
    "print(new_list)"
   ]
  },
  {
   "cell_type": "code",
   "execution_count": 34,
   "metadata": {},
   "outputs": [
    {
     "name": "stdout",
     "output_type": "stream",
     "text": [
      "[4, 10, 22.4, 12.8, 6.4]\n"
     ]
    }
   ],
   "source": [
    "my_numbers = [2, 5, 11.2, 6.4, 3.2]\n",
    "\n",
    "new_numbers = [2*i for i in my_numbers]\n",
    "print(new_numbers)"
   ]
  },
  {
   "cell_type": "code",
   "execution_count": 38,
   "metadata": {},
   "outputs": [
    {
     "name": "stdout",
     "output_type": "stream",
     "text": [
      "0. Mike\n",
      "1. Priya\n",
      "2. Sean\n",
      "3. Raj\n",
      "4. Jacob\n"
     ]
    }
   ],
   "source": [
    "my_list = [\"Mike\",\"Priya\",\"Sean\",\"Raj\",\"Jacob\"]\n",
    "for index,item in enumerate(my_list): #this chucks (my_list) into a numbered list\n",
    "    print(f\"{index}. {item}\")         #this prints out the list \"f\" flushing the casting of the string"
   ]
  },
  {
   "cell_type": "code",
   "execution_count": 40,
   "metadata": {},
   "outputs": [
    {
     "name": "stdout",
     "output_type": "stream",
     "text": [
      "Name. Mike\n",
      "Age. 47\n",
      "Home. Palmerston North\n"
     ]
    }
   ],
   "source": [
    "my_info = {\"Name\": \"Mike\", \"Age\": 47, \"Home\": \"Palmerston North\"}\n",
    "for key, value in my_info.items():\n",
    "    print(f\"{key}. {value}\")"
   ]
  },
  {
   "cell_type": "code",
   "execution_count": 46,
   "metadata": {},
   "outputs": [
    {
     "name": "stdout",
     "output_type": "stream",
     "text": [
      "['Item1', 'Item2', 'Item3']\n",
      "Item1\n",
      "['Item2', 'Item3']\n"
     ]
    }
   ],
   "source": [
    "my_queue = []\n",
    "my_queue.append(\"Item1\")\n",
    "my_queue.append(\"Item2\")\n",
    "my_queue.append(\"Item3\")\n",
    "print(my_queue)\n",
    "print(my_queue.pop(0))\n",
    "print(my_queue)"
   ]
  },
  {
   "cell_type": "code",
   "execution_count": 48,
   "metadata": {},
   "outputs": [
    {
     "name": "stdout",
     "output_type": "stream",
     "text": [
      "10\n",
      "68\n",
      "4646\n"
     ]
    }
   ],
   "source": [
    "def times_two(x):\n",
    "    return 2*x\n",
    "\n",
    "print(times_two(5))\n",
    "print(times_two(34))\n",
    "print(times_two(2323))"
   ]
  },
  {
   "cell_type": "code",
   "execution_count": 50,
   "metadata": {},
   "outputs": [
    {
     "name": "stdout",
     "output_type": "stream",
     "text": [
      "Value of x = 2 & value of y = 3\n"
     ]
    }
   ],
   "source": [
    "def side_effect(x,y): #input argument for X and Y\n",
    "    print(f\"Value of x = {x} & value of y = {y}\")\n",
    "\n",
    "side_effect(2,3)"
   ]
  },
  {
   "cell_type": "code",
   "execution_count": 53,
   "metadata": {},
   "outputs": [
    {
     "name": "stdout",
     "output_type": "stream",
     "text": [
      "Nicely printing 3192\n",
      "Nicely printing 6320\n",
      "Nicely printing 191406\n"
     ]
    },
    {
     "data": {
      "text/plain": [
       "191406"
      ]
     },
     "execution_count": 53,
     "metadata": {},
     "output_type": "execute_result"
    }
   ],
   "source": [
    "def print_nicely(my_string):\n",
    "    print(f\"Nicely printing {my_string}\")\n",
    "\n",
    "def complex_processing(x):\n",
    "    output_value = x * x + x\n",
    "    print_nicely(output_value)\n",
    "    return output_value\n",
    "\n",
    "complex_processing(56)\n",
    "complex_processing(79)\n",
    "complex_processing(437)"
   ]
  },
  {
   "cell_type": "code",
   "execution_count": 57,
   "metadata": {},
   "outputs": [
    {
     "name": "stdout",
     "output_type": "stream",
     "text": [
      "5\n"
     ]
    },
    {
     "data": {
      "text/plain": [
       "12"
      ]
     },
     "execution_count": 57,
     "metadata": {},
     "output_type": "execute_result"
    }
   ],
   "source": [
    "y = 5\n",
    "\n",
    "def times_two(x):\n",
    "    print(y)\n",
    "    return 2*x\n",
    "times_two(6)\n"
   ]
  },
  {
   "cell_type": "code",
   "execution_count": 60,
   "metadata": {},
   "outputs": [
    {
     "name": "stdout",
     "output_type": "stream",
     "text": [
      "y = 6\n",
      "y = 5\n"
     ]
    },
    {
     "ename": "",
     "evalue": "",
     "output_type": "error",
     "traceback": [
      "\u001b[1;31mThe Kernel crashed while executing code in the the current cell or a previous cell. Please review the code in the cell(s) to identify a possible cause of the failure. Click <a href='https://aka.ms/vscodeJupyterKernelCrash'>here</a> for more info. View Jupyter <a href='command:jupyter.viewOutput'>log</a> for further details."
     ]
    }
   ],
   "source": [
    "y = 5\n",
    "\n",
    "def times_two(x):\n",
    "    y = x\n",
    "    print(f\"y = {y}\")\n",
    "    return 2*x\n",
    "times_two(6)\n",
    "print(f\"y = {y}\")"
   ]
  },
  {
   "cell_type": "code",
   "execution_count": 1,
   "metadata": {},
   "outputs": [
    {
     "ename": "SyntaxError",
     "evalue": "expected ':' (2884293908.py, line 1)",
     "output_type": "error",
     "traceback": [
      "\u001b[1;36m  Cell \u001b[1;32mIn[1], line 1\u001b[1;36m\u001b[0m\n\u001b[1;33m    class MyCustomException1(Exception)\u001b[0m\n\u001b[1;37m                                       ^\u001b[0m\n\u001b[1;31mSyntaxError\u001b[0m\u001b[1;31m:\u001b[0m expected ':'\n"
     ]
    }
   ],
   "source": [
    "class MyCustomException1(Exception):\n",
    "\n",
    "    #testing = 10\n",
    "    try:\n",
    "        print(testing)\n"
   ]
  },
  {
   "cell_type": "code",
   "execution_count": 9,
   "metadata": {},
   "outputs": [
    {
     "ename": "AssertionError",
     "evalue": "I expect 1 and 0 are different numbers",
     "output_type": "error",
     "traceback": [
      "\u001b[1;31m---------------------------------------------------------------------------\u001b[0m",
      "\u001b[1;31mAssertionError\u001b[0m                            Traceback (most recent call last)",
      "\u001b[1;32mc:\\Users\\Mike RT\\Documents\\learn_git\\Python\\jupyternotebook.ipynb Cell 45\u001b[0m line \u001b[0;36m1\n\u001b[1;32m----> <a href='vscode-notebook-cell:/c%3A/Users/Mike%20RT/Documents/learn_git/Python/jupyternotebook.ipynb#X62sZmlsZQ%3D%3D?line=0'>1</a>\u001b[0m \u001b[39massert\u001b[39;00m \u001b[39m1\u001b[39m \u001b[39m==\u001b[39m \u001b[39m0\u001b[39m, \u001b[39m\"\u001b[39m\u001b[39mI expect 1 and 0 are different numbers\u001b[39m\u001b[39m\"\u001b[39m\n",
      "\u001b[1;31mAssertionError\u001b[0m: I expect 1 and 0 are different numbers"
     ]
    }
   ],
   "source": [
    "assert 1 == 0, \"I expect 1 and 0 are different numbers\""
   ]
  },
  {
   "cell_type": "code",
   "execution_count": 12,
   "metadata": {},
   "outputs": [
    {
     "ename": "AssertionError",
     "evalue": "",
     "output_type": "error",
     "traceback": [
      "\u001b[1;31m---------------------------------------------------------------------------\u001b[0m",
      "\u001b[1;31mAssertionError\u001b[0m                            Traceback (most recent call last)",
      "\u001b[1;32mc:\\Users\\Mike RT\\Documents\\learn_git\\Python\\jupyternotebook.ipynb Cell 46\u001b[0m line \u001b[0;36m4\n\u001b[0;32m      <a href='vscode-notebook-cell:/c%3A/Users/Mike%20RT/Documents/learn_git/Python/jupyternotebook.ipynb#X63sZmlsZQ%3D%3D?line=1'>2</a>\u001b[0m     \u001b[39mreturn\u001b[39;00m \u001b[39m2\u001b[39m \u001b[39m*\u001b[39m x\n\u001b[0;32m      <a href='vscode-notebook-cell:/c%3A/Users/Mike%20RT/Documents/learn_git/Python/jupyternotebook.ipynb#X63sZmlsZQ%3D%3D?line=2'>3</a>\u001b[0m \u001b[39massert\u001b[39;00m double_value(\u001b[39m1\u001b[39m) \u001b[39m==\u001b[39m \u001b[39m2\u001b[39m \u001b[39m#this and next line tests above function\u001b[39;00m\n\u001b[1;32m----> <a href='vscode-notebook-cell:/c%3A/Users/Mike%20RT/Documents/learn_git/Python/jupyternotebook.ipynb#X63sZmlsZQ%3D%3D?line=3'>4</a>\u001b[0m \u001b[39massert\u001b[39;00m double_value(\u001b[39m2\u001b[39m) \u001b[39m==\u001b[39m \u001b[39m2\u001b[39m\n\u001b[0;32m      <a href='vscode-notebook-cell:/c%3A/Users/Mike%20RT/Documents/learn_git/Python/jupyternotebook.ipynb#X63sZmlsZQ%3D%3D?line=4'>5</a>\u001b[0m \u001b[39massert\u001b[39;00m double_value(\u001b[39m2\u001b[39m) \u001b[39m==\u001b[39m \u001b[39m2\u001b[39m\n",
      "\u001b[1;31mAssertionError\u001b[0m: "
     ]
    }
   ],
   "source": [
    "def double_value(x):\n",
    "    return 2 * x\n",
    "assert double_value(1) == 2 #this and next line tests above function\n",
    "assert double_value(2) == 2\n",
    "assert double_value(2) == 2"
   ]
  },
  {
   "cell_type": "code",
   "execution_count": 15,
   "metadata": {},
   "outputs": [
    {
     "name": "stdout",
     "output_type": "stream",
     "text": [
      "error\n",
      "the program is still operating normally\n"
     ]
    }
   ],
   "source": [
    "try:\n",
    "    print(x)\n",
    "except:\n",
    "    print(\"error\")\n",
    "\n",
    "print(\"the program is still operating normally\")"
   ]
  },
  {
   "cell_type": "code",
   "execution_count": 19,
   "metadata": {},
   "outputs": [
    {
     "name": "stdout",
     "output_type": "stream",
     "text": [
      "name 'x' is not defined\n",
      "the program is still operating normally\n"
     ]
    }
   ],
   "source": [
    "try:\n",
    "    print(x)\n",
    "except Exception as e: #Exception is the parent class.\n",
    "    #print(\"error\")\n",
    "    print(e)\n",
    "print(\"the program is still operating normally\")"
   ]
  },
  {
   "cell_type": "code",
   "execution_count": 24,
   "metadata": {},
   "outputs": [
    {
     "name": "stdout",
     "output_type": "stream",
     "text": [
      "division by zero\n",
      "The program is still operating normally\n"
     ]
    }
   ],
   "source": [
    "try:\n",
    "    print(1 / 0)\n",
    "    print(x)\n",
    "except ZeroDivisionError as zde:\n",
    "    #print(\"I caught a zero division error\")\n",
    "    print(zde)\n",
    "except Exception as e:\n",
    "    #print(\"error\")\n",
    "    print(e)\n",
    "print(\"The program is still operating normally\")"
   ]
  },
  {
   "cell_type": "code",
   "execution_count": 1,
   "metadata": {},
   "outputs": [
    {
     "name": "stdout",
     "output_type": "stream",
     "text": [
      "We divided 2 by 3 = 0.6666666666666666\n",
      "0.6666666666666666\n",
      "You can't divide by zero\n",
      "unsupported operand type(s) for /: 'str' and 'str'\n"
     ]
    }
   ],
   "source": [
    "def divide_two_numbers(x, y):\n",
    "    try:\n",
    "        results = x / y\n",
    "    except ZeroDivisionError as zde:\n",
    "        print(\"You can't divide by zero\")\n",
    "    except Exception as e:\n",
    "        print(e)\n",
    "    else:\n",
    "        print(f\"We divided {x} by {y} = {results}\")\n",
    "        return results\n",
    "    \n",
    "print(divide_two_numbers(2, 3))\n",
    "divide_two_numbers(1, 0)\n",
    "divide_two_numbers(\"one\", \"two\")"
   ]
  },
  {
   "cell_type": "code",
   "execution_count": 3,
   "metadata": {},
   "outputs": [],
   "source": [
    "class Car: #most simple form of class -pass\n",
    "    pass"
   ]
  },
  {
   "cell_type": "code",
   "execution_count": 6,
   "metadata": {},
   "outputs": [
    {
     "name": "stdout",
     "output_type": "stream",
     "text": [
      "<__main__.Car object at 0x0000018BE74825A0>\n",
      "<__main__.Car object at 0x0000018BE7519670>\n"
     ]
    }
   ],
   "source": [
    "class Car:\n",
    "    def __init__(self, brand): #initialisation self is \"self or itself, the car\" and it is just any name\n",
    "        self.brand=brand\n",
    "\n",
    "my_car = Car(brand=\"Toyota\")\n",
    "your_car = Car(brand=\"Mercedes\")\n",
    "print (my_car)\n",
    "print (your_car)"
   ]
  },
  {
   "cell_type": "code",
   "execution_count": 9,
   "metadata": {},
   "outputs": [
    {
     "name": "stdout",
     "output_type": "stream",
     "text": [
      "{'brand': 'Toyota', 'milage_km': 41000}\n"
     ]
    }
   ],
   "source": [
    "class Car:\n",
    "    def __init__(self, brand, milage_km):\n",
    "        self.brand=brand\n",
    "        self.milage_km=milage_km\n",
    "\n",
    "    def drive(self, distance_km):\n",
    "        self.milage_km = self.milage_km + distance_km\n",
    "\n",
    "my_car = Car(brand=\"Toyota\", milage_km = 40000)\n",
    "\n",
    "my_car.drive(distance_km=1000)\n",
    "\n",
    "print(my_car.__dict__)\n"
   ]
  },
  {
   "cell_type": "code",
   "execution_count": 12,
   "metadata": {},
   "outputs": [
    {
     "name": "stdout",
     "output_type": "stream",
     "text": [
      "{'brand': 'Toyota', 'milage_km': 41000}\n",
      "{'brand': 'Mercedes', 'milage_km': 32000}\n"
     ]
    }
   ],
   "source": [
    "class Car:\n",
    "    def __init__(self, brand, milage_km):\n",
    "        self.brand=brand\n",
    "        self.milage_km=milage_km\n",
    "\n",
    "    def drive(self, distance_km):\n",
    "        self.milage_km = self.milage_km + distance_km\n",
    "\n",
    "class IceCar(Car):\n",
    "    pass\n",
    "class ElectricCar(Car):\n",
    "    pass\n",
    "my_car = ElectricCar(brand=\"Toyota\", milage_km = 40000)\n",
    "my_ice = ElectricCar(brand=\"Mercedes\", milage_km = 30000)\n",
    "\n",
    "my_car.drive(distance_km=1000)\n",
    "my_ice.drive(distance_km=2000)\n",
    "print(my_car.__dict__)\n",
    "print(my_ice.__dict__)\n",
    "\n"
   ]
  },
  {
   "cell_type": "code",
   "execution_count": 1,
   "metadata": {},
   "outputs": [
    {
     "name": "stdout",
     "output_type": "stream",
     "text": [
      "{'brand': 'Tesla', 'milage_km': 80032.5, 'range': 267.5, 'fuel_level': 9.75}\n",
      "\n",
      "{'brand': 'Tesla', 'milage_km': 80075, 'range': 225, 'fuel_level': 22.5}\n",
      "\n",
      "{'brand': 'Tesla', 'milage_km': 80150, 'range': 150, 'fuel_level': 45.0}\n",
      "\n",
      "{'brand': 'Mitsubishi', 'milage_km': 25150, 'fuel_consumption': 7, 'fuel_level': 10.5}\n",
      "\n",
      "{'brand': 'Mitsubishi', 'milage_km': 25075, 'fuel_consumption': 7, 'fuel_level': 5.25}\n",
      "\n",
      "{'brand': 'Mitsubishi', 'milage_km': 25032.5, 'fuel_consumption': 7, 'fuel_level': 2.275}\n"
     ]
    }
   ],
   "source": [
    "class Car:\n",
    "    def __init__(self, brand, milage_km):\n",
    "        self.brand=brand\n",
    "        self.milage_km=milage_km\n",
    "\n",
    "    def drive(self, distance_km):\n",
    "        self.milage_km = self.milage_km + distance_km\n",
    "\n",
    "\n",
    "class ElectricCar(Car):\n",
    "    def __init__(self, brand, milage_km, range, fuel_level):\n",
    "        super().__init__(brand, milage_km)\n",
    "        self.range=range\n",
    "        self.fuel_level=fuel_level\n",
    "    def drive(self, distance_km):\n",
    "        super().drive(distance_km)\n",
    "        self.range= self.range-distance_km\n",
    "        self.fuel_level = (distance_km*self.fuel_level/100)\n",
    "\n",
    "class IceCar(Car):\n",
    "    def __init__(self, brand, milage_km, fuel_consumption, fuel_level):\n",
    "        Car.__init__(self, brand, milage_km)\n",
    "        self.fuel_consumption=fuel_consumption\n",
    "        self.fuel_level=fuel_level\n",
    "    def drive(self, distance_km):\n",
    "        super().drive(distance_km)\n",
    "        self.fuel_level= self.fuel_level-distance_km\n",
    "        self.fuel_level = (distance_km*self.fuel_consumption/100)\n",
    "\n",
    "my_ev = ElectricCar(\"Tesla\", 80000, 300, 30)\n",
    "my_ev.drive(distance_km=32.5)\n",
    "my_ev1 = ElectricCar(\"Tesla\", 80000, 300, 30)\n",
    "my_ev1.drive(distance_km=75)\n",
    "my_ev2 = ElectricCar(\"Tesla\", 80000, 300, 30)\n",
    "my_ev2.drive(distance_km=150)\n",
    "\n",
    "my_icecar = IceCar(\"Mitsubishi\", 25000, 7, 30)\n",
    "my_icecar.drive(distance_km=150)\n",
    "my_icecar1= IceCar(\"Mitsubishi\", 25000, 7, 30)\n",
    "my_icecar1.drive(distance_km=75)\n",
    "my_icecar2 = IceCar(\"Mitsubishi\", 25000, 7, 30)\n",
    "my_icecar2.drive(distance_km=32.5)\n",
    "\n",
    "print(my_ev.__dict__)\n",
    "print(\"\")\n",
    "print(my_ev1.__dict__)\n",
    "print(\"\")\n",
    "print(my_ev2.__dict__)\n",
    "print(\"\")\n",
    "print(my_icecar.__dict__)\n",
    "print(\"\")\n",
    "print(my_icecar1.__dict__)\n",
    "print(\"\")\n",
    "print(my_icecar2.__dict__)\n",
    "#Homework\n"
   ]
  },
  {
   "cell_type": "code",
   "execution_count": null,
   "metadata": {},
   "outputs": [],
   "source": [
    "#module learning today"
   ]
  }
 ],
 "metadata": {
  "kernelspec": {
   "display_name": "Python 3",
   "language": "python",
   "name": "python3"
  },
  "language_info": {
   "codemirror_mode": {
    "name": "ipython",
    "version": 3
   },
   "file_extension": ".py",
   "mimetype": "text/x-python",
   "name": "python",
   "nbconvert_exporter": "python",
   "pygments_lexer": "ipython3",
   "version": "3.12.0"
  }
 },
 "nbformat": 4,
 "nbformat_minor": 2
}

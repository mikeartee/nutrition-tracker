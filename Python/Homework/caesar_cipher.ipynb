{
 "cells": [
  {
   "cell_type": "code",
   "execution_count": 1,
   "metadata": {},
   "outputs": [
    {
     "name": "stdout",
     "output_type": "stream",
     "text": [
      "Encrypted text: Rovvy Gybvn\n",
      "Decrypted text: Hello World\n"
     ]
    },
    {
     "ename": "",
     "evalue": "",
     "output_type": "error",
     "traceback": [
      "\u001b[1;31mThe Kernel crashed while executing code in the the current cell or a previous cell. Please review the code in the cell(s) to identify a possible cause of the failure. Click <a href='https://aka.ms/vscodeJupyterKernelCrash'>here</a> for more info. View Jupyter <a href='command:jupyter.viewOutput'>log</a> for further details."
     ]
    }
   ],
   "source": [
    "def caesar(text, shift):\n",
    "    return ''.join(chr((ord(c) - ord('a' if c.islower() else 'A') + shift) % 26 + ord('a' if c.islower() else 'A')) if c.isalpha() else c for c in text)\n",
    "\n",
    "while True:\n",
    "    choice = input(\"Choose an option (encrypt, decrypt, or exit): \").lower()\n",
    "\n",
    "    if choice == 'encrypt':\n",
    "        plaintext = input(\"Enter the text to encrypt: \")\n",
    "        shift = int(input(\"Enter the shift value: \"))\n",
    "        encrypted_text = caesar(plaintext, shift)\n",
    "        print(\"Encrypted text:\", encrypted_text)\n",
    "\n",
    "    elif choice == 'decrypt':\n",
    "        ciphertext = input(\"Enter the text to decrypt: \")\n",
    "        shift = int(input(\"Enter the shift value: \"))\n",
    "        decrypted_text = caesar(ciphertext, -shift)\n",
    "        print(\"Decrypted text:\", decrypted_text)\n",
    "\n",
    "    elif choice == 'exit':\n",
    "        break"
   ]
  }
 ],
 "metadata": {
  "kernelspec": {
   "display_name": "Python 3",
   "language": "python",
   "name": "python3"
  },
  "language_info": {
   "codemirror_mode": {
    "name": "ipython",
    "version": 3
   },
   "file_extension": ".py",
   "mimetype": "text/x-python",
   "name": "python",
   "nbconvert_exporter": "python",
   "pygments_lexer": "ipython3",
   "version": "3.12.0"
  }
 },
 "nbformat": 4,
 "nbformat_minor": 2
}

{
 "cells": [
  {
   "cell_type": "code",
   "execution_count": 22,
   "metadata": {},
   "outputs": [
    {
     "name": "stdout",
     "output_type": "stream",
     "text": [
      "  |  |  \n",
      "  |  |  \n",
      "--------\n",
      "  |  |  \n",
      "  |  |  \n",
      "--------\n",
      "  |  |  \n",
      "  |  |  \n"
     ]
    }
   ],
   "source": [
    "row = input(\"How big do you want your tic tac toe board?\")\n",
    "if row == \"2\":\n",
    "    board = [\"  |  |  \",\n",
    "             \"  |  |  \",\n",
    "             \"--------\",\n",
    "             \"  |  |  \",\n",
    "             \"  |  |  \",\n",
    "             \"--------\",\n",
    "             \"  |  |  \",\n",
    "             \"  |  |  \"]\n",
    "    for row in board:\n",
    "        print(row)\n",
    "elif row == \"3\":\n",
    "    board = [\"   |   |   \",\n",
    "             \"   |   |   \",\n",
    "             \"   |   |   \",\n",
    "             \"-----------\",\n",
    "             \"   |   |   \",\n",
    "             \"   |   |   \",\n",
    "             \"   |   |   \",\n",
    "             \"-----------\",\n",
    "             \"   |   |   \",\n",
    "             \"   |   |   \",\n",
    "             \"   |   |   \"]\n",
    "\n",
    "    for row in board:\n",
    "        print(row)"
   ]
  },
  {
   "cell_type": "code",
   "execution_count": 61,
   "metadata": {},
   "outputs": [
    {
     "name": "stdout",
     "output_type": "stream",
     "text": [
      "   |   |   \n",
      "-----------\n",
      "   |   |   \n",
      "-----------\n",
      "   |   |   \n",
      "-----------\n"
     ]
    }
   ],
   "source": [
    "def board(n):\n",
    "    for i in range(n):\n",
    "        print(n*\" \"+\"|\"+n*\" \"+\"|\" +n*\" \")\n",
    "        print((2+3*n)*\"-\")\n",
    "\n",
    "n = int(input(\"How big do you want your Tic Tac Toe board? Enter a number: \"))\n",
    "board(n)\n"
   ]
  },
  {
   "cell_type": "code",
   "execution_count": 120,
   "metadata": {},
   "outputs": [
    {
     "name": "stdout",
     "output_type": "stream",
     "text": [
      "  |  |  \n",
      "  |  |  \n",
      "--------\n",
      "  |  |  \n",
      "  |  |  \n",
      "--------\n",
      "  |  |  \n",
      "  |  |  \n"
     ]
    },
    {
     "ename": "",
     "evalue": "",
     "output_type": "error",
     "traceback": [
      "\u001b[1;31mThe Kernel crashed while executing code in the the current cell or a previous cell. Please review the code in the cell(s) to identify a possible cause of the failure. Click <a href='https://aka.ms/vscodeJupyterKernelCrash'>here</a> for more info. View Jupyter <a href='command:jupyter.viewOutput'>log</a> for further details."
     ]
    }
   ],
   "source": [
    "\n",
    "n = int(input(\"How big do you want your Tic Tac Toe board (e.g. 1 for small squares, 2 for larger ones, etc.): \")) #Asking user for the size! Woo!\n",
    "if n < 1:                                                  #Option if smaller than 1, prints line below\n",
    "    print(\"The number must be at least 1. Have you not played Tic Tac Toe before?\")                                 \n",
    "else:\n",
    "    board(n)                                               #This line calls the board function (n) \n",
    "def board(n):                                              #Defines board function, loop and nested loop below \n",
    "    for i in range(3):                                     #This starts a loop that iterates three rows for board.\n",
    "        for _ in range(n):                                 #This is a nested loop that creates a range for the vertical line rows to print according to (n) Giving height for \"|\".\n",
    "            print(n * \" \" + \"|\" + n * \" \" + \"|\" + n * \" \") #This is my row to print for \"|\".\n",
    "        if i < 2:                                          #This checks to see if it's the last row or not, if it isn't, it prints the next row, locking in the horizontal (n). \n",
    "            print((2 + 3 * n) * \"-\")                       #This is my horizontal line\n",
    "if n < 1:                                                  #Option if smaller than 1, prints line below\n",
    "    print(\"The number must be at least 1. Have you not played Tic Tac Toe before?\")                                 \n"
   ]
  },
  {
   "cell_type": "code",
   "execution_count": null,
   "metadata": {},
   "outputs": [],
   "source": []
  }
 ],
 "metadata": {
  "kernelspec": {
   "display_name": "Python 3",
   "language": "python",
   "name": "python3"
  },
  "language_info": {
   "codemirror_mode": {
    "name": "ipython",
    "version": 3
   },
   "file_extension": ".py",
   "mimetype": "text/x-python",
   "name": "python",
   "nbconvert_exporter": "python",
   "pygments_lexer": "ipython3",
   "version": "3.12.0"
  }
 },
 "nbformat": 4,
 "nbformat_minor": 2
}
